{
 "cells": [
  {
   "cell_type": "markdown",
   "metadata": {},
   "source": [
    "# Responses\n",
    "\n",
    "A utility library for mocking out the `requests` Python library, by:\n",
    "\n",
    "<div align=\"left\"><img width=\"400\" src=\"https://sentry-brand.storage.googleapis.com/flag-logo-left.svg\" /></div>"
   ]
  },
  {
   "cell_type": "markdown",
   "metadata": {},
   "source": [
    "Responses requires Python 2.7 or newer, and `requests >= 2.0`"
   ]
  },
  {
   "cell_type": "markdown",
   "metadata": {},
   "source": [
    "## Installing"
   ]
  },
  {
   "cell_type": "code",
   "execution_count": 1,
   "metadata": {},
   "outputs": [
    {
     "name": "stdout",
     "output_type": "stream",
     "text": [
      "Requirement already satisfied: responses in /usr/local/lib/python3.6/site-packages (0.10.4)\n",
      "Requirement already satisfied: requests>=2.0 in /usr/local/lib/python3.6/site-packages (from responses) (2.20.1)\n",
      "Requirement already satisfied: six in /usr/local/lib/python3.6/site-packages (from responses) (1.11.0)\n",
      "Requirement already satisfied: chardet<3.1.0,>=3.0.2 in /usr/local/lib/python3.6/site-packages (from requests>=2.0->responses) (3.0.4)\n",
      "Requirement already satisfied: certifi>=2017.4.17 in /usr/local/lib/python3.6/site-packages (from requests>=2.0->responses) (2018.11.29)\n",
      "Requirement already satisfied: urllib3<1.25,>=1.21.1 in /usr/local/lib/python3.6/site-packages (from requests>=2.0->responses) (1.24.1)\n",
      "Requirement already satisfied: idna<2.8,>=2.5 in /usr/local/lib/python3.6/site-packages (from requests>=2.0->responses) (2.7)\n",
      "\u001b[33mYou are using pip version 18.0, however version 18.1 is available.\n",
      "You should consider upgrading via the 'pip install --upgrade pip' command.\u001b[0m\n"
     ]
    }
   ],
   "source": [
    "!pip install responses"
   ]
  },
  {
   "cell_type": "markdown",
   "metadata": {},
   "source": [
    "## Basics\n",
    "\n",
    "The core of `responses` comes from registering mock responses:"
   ]
  },
  {
   "cell_type": "code",
   "execution_count": 3,
   "metadata": {},
   "outputs": [],
   "source": [
    "import responses\n",
    "import requests"
   ]
  },
  {
   "cell_type": "code",
   "execution_count": 4,
   "metadata": {},
   "outputs": [],
   "source": [
    "@responses.activate\n",
    "def test_simple():\n",
    "    responses.add(responses.GET, 'http://twitter.com/api/1/foobar',\n",
    "                  json={'error': 'not found'}, status=404)\n",
    "\n",
    "    resp = requests.get('http://twitter.com/api/1/foobar')\n",
    "\n",
    "    assert resp.json() == {\"error\": \"not found\"}\n",
    "\n",
    "    assert len(responses.calls) == 1\n",
    "    assert responses.calls[0].request.url == 'http://twitter.com/api/1/foobar'\n",
    "    assert responses.calls[0].response.text == '{\"error\": \"not found\"}'"
   ]
  },
  {
   "cell_type": "markdown",
   "metadata": {},
   "source": [
    "If you attempt to fetch a url which doesn't hit a match, `responses` will raise\n",
    "a `ConnectionError`:"
   ]
  },
  {
   "cell_type": "code",
   "execution_count": 5,
   "metadata": {},
   "outputs": [],
   "source": [
    "from requests.exceptions import ConnectionError\n",
    "\n",
    "@responses.activate\n",
    "def test_simple():\n",
    "    with pytest.raises(ConnectionError):\n",
    "        requests.get('http://twitter.com/api/1/foobar')"
   ]
  },
  {
   "cell_type": "markdown",
   "metadata": {},
   "source": [
    "Lastly, you can pass an `Exception` as the body to trigger an error on the request:"
   ]
  },
  {
   "cell_type": "code",
   "execution_count": 6,
   "metadata": {},
   "outputs": [],
   "source": [
    "@responses.activate\n",
    "def test_simple():\n",
    "    responses.add(responses.GET, 'http://twitter.com/api/1/foobar',\n",
    "                  body=Exception('...'))\n",
    "    with pytest.raises(Exception):\n",
    "        requests.get('http://twitter.com/api/1/foobar')"
   ]
  },
  {
   "cell_type": "markdown",
   "metadata": {},
   "source": [
    "## Response Parameters\n",
    "\n",
    "Responses are automatically registered via params on `add`, but can also be\n",
    "passed directly:"
   ]
  },
  {
   "cell_type": "code",
   "execution_count": 7,
   "metadata": {},
   "outputs": [],
   "source": [
    "responses.add(\n",
    "    responses.Response(\n",
    "        method='GET',\n",
    "        url='http://example.com',\n",
    "    ),\n",
    ")"
   ]
  },
  {
   "cell_type": "markdown",
   "metadata": {},
   "source": [
    "The following attributes can be passed to a Response mock:\n",
    "\n",
    "* method (`str`)\n",
    "\n",
    "        The HTTP method (GET, POST, etc).\n",
    "\n",
    "\n",
    "* url (`str` or compiled regular expression)\n",
    "\n",
    "        The full resource URL.\n",
    "\n",
    "\n",
    "* match_querystring (`bool`)\n",
    "\n",
    "        Include the query string when matching requests.\n",
    "        Enabled by default if the response URL contains a query string,\n",
    "        disabled if it doesn't or the URL is a regular expression.\n",
    "\n",
    "\n",
    "* body (`str` or `BufferedReader`)\n",
    "\n",
    "        The response body.\n",
    "\n",
    "\n",
    "* json\n",
    "\n",
    "        A Python object representing the JSON response body. Automatically configures\n",
    "        the appropriate Content-Type.\n",
    "\n",
    "\n",
    "* status (`int`)\n",
    "\n",
    "        The HTTP status code.\n",
    "\n",
    "\n",
    "* content_type (`content_type`)\n",
    "\n",
    "        Defaults to `text/plain`.\n",
    "\n",
    "\n",
    "* headers (`dict`)\n",
    "\n",
    "        Response headers.\n",
    "\n",
    "\n",
    "* stream (`bool`)\n",
    "\n",
    "        Disabled by default. Indicates the response should use the streaming API."
   ]
  },
  {
   "cell_type": "markdown",
   "metadata": {},
   "source": [
    "## Dynamic Responses\n",
    "\n",
    "You can utilize callbacks to provide dynamic responses. The callback must return\n",
    "a tuple of (`status`, `headers`, `body`)."
   ]
  },
  {
   "cell_type": "code",
   "execution_count": 8,
   "metadata": {},
   "outputs": [],
   "source": [
    "import json\n",
    "\n",
    "@responses.activate\n",
    "def test_calc_api():\n",
    "\n",
    "    def request_callback(request):\n",
    "        payload = json.loads(request.body)\n",
    "        resp_body = {'value': sum(payload['numbers'])}\n",
    "        headers = {'request-id': '728d329e-0e86-11e4-a748-0c84dc037c13'}\n",
    "        return (200, headers, json.dumps(resp_body))\n",
    "\n",
    "    responses.add_callback(\n",
    "        responses.POST, 'http://calc.com/sum',\n",
    "        callback=request_callback,\n",
    "        content_type='application/json',\n",
    "    )\n",
    "\n",
    "    resp = requests.post(\n",
    "        'http://calc.com/sum',\n",
    "        json.dumps({'numbers': [1, 2, 3]}),\n",
    "        headers={'content-type': 'application/json'},\n",
    "    )\n",
    "\n",
    "    assert resp.json() == {'value': 6}\n",
    "\n",
    "    assert len(responses.calls) == 1\n",
    "    assert responses.calls[0].request.url == 'http://calc.com/sum'\n",
    "    assert responses.calls[0].response.text == '{\"value\": 6}'\n",
    "    assert (\n",
    "        responses.calls[0].response.headers['request-id'] ==\n",
    "        '728d329e-0e86-11e4-a748-0c84dc037c13'\n",
    "    )"
   ]
  },
  {
   "cell_type": "markdown",
   "metadata": {},
   "source": [
    "If you want to pass extra keyword arguments to the callback function, for example when reusing\n",
    "a callback function to give a slightly different result, you can use `functools.partial`:"
   ]
  },
  {
   "cell_type": "code",
   "execution_count": 9,
   "metadata": {},
   "outputs": [],
   "source": [
    "from functools import partial\n",
    "\n",
    "\n",
    "def test_calc_api():\n",
    "\n",
    "    def request_callback(request, id=None):\n",
    "        payload = json.loads(request.body)\n",
    "        resp_body = {'value': sum(payload['numbers'])}\n",
    "        headers = {'request-id': id}\n",
    "        return (200, headers, json.dumps(resp_body))\n",
    "\n",
    "    responses.add_callback(\n",
    "        responses.POST, 'http://calc.com/sum',\n",
    "        callback=partial(request_callback, id='728d329e-0e86-11e4-a748-0c84dc037c13'),\n",
    "        content_type='application/json',\n",
    "    )\n"
   ]
  },
  {
   "cell_type": "markdown",
   "metadata": {},
   "source": [
    "## Responses as a context manager"
   ]
  },
  {
   "cell_type": "code",
   "execution_count": 10,
   "metadata": {},
   "outputs": [],
   "source": [
    "def test_my_api():\n",
    "    with responses.RequestsMock() as rsps:\n",
    "        rsps.add(responses.GET, 'http://twitter.com/api/1/foobar',\n",
    "                 body='{}', status=200,\n",
    "                 content_type='application/json')\n",
    "        resp = requests.get('http://twitter.com/api/1/foobar')\n",
    "\n",
    "        assert resp.status_code == 200\n",
    "\n",
    "    # outside the context manager requests will hit the remote server\n",
    "    resp = requests.get('http://twitter.com/api/1/foobar')\n",
    "    resp.status_code == 404"
   ]
  },
  {
   "cell_type": "markdown",
   "metadata": {},
   "source": [
    "## Responses as a pytest fixture"
   ]
  },
  {
   "cell_type": "code",
   "execution_count": 13,
   "metadata": {},
   "outputs": [],
   "source": [
    "import pytest\n",
    "\n",
    "\n",
    "@pytest.fixture\n",
    "def mocked_responses():\n",
    "    with responses.RequestsMock() as rsps:\n",
    "        yield rsps\n",
    "\n",
    "def test_api(mocked_responses):\n",
    "    mocked_responses.add(\n",
    "        responses.GET, 'http://twitter.com/api/1/foobar',\n",
    "        body='{}', status=200,\n",
    "        content_type='application/json')\n",
    "    resp = requests.get('http://twitter.com/api/1/foobar')\n",
    "    assert resp.status_code == 200"
   ]
  },
  {
   "cell_type": "markdown",
   "metadata": {},
   "source": [
    "## Assertions on declared responses\n",
    "\n",
    "When used as a context manager, Responses will, by default, raise an assertion\n",
    "error if a url was registered but not accessed. This can be disabled by passing\n",
    "the `assert_all_requests_are_fired` value:"
   ]
  },
  {
   "cell_type": "code",
   "execution_count": 14,
   "metadata": {},
   "outputs": [],
   "source": [
    "def test_my_api():\n",
    "    with responses.RequestsMock(assert_all_requests_are_fired=False) as rsps:\n",
    "        rsps.add(responses.GET, 'http://twitter.com/api/1/foobar',\n",
    "                 body='{}', status=200,\n",
    "                 content_type='application/json')\n"
   ]
  },
  {
   "cell_type": "markdown",
   "metadata": {},
   "source": [
    "## Multiple Responses\n",
    "\n",
    "You can also add multiple responses for the same url:"
   ]
  },
  {
   "cell_type": "code",
   "execution_count": 15,
   "metadata": {},
   "outputs": [],
   "source": [
    "@responses.activate\n",
    "def test_my_api():\n",
    "    responses.add(responses.GET, 'http://twitter.com/api/1/foobar', status=500)\n",
    "    responses.add(responses.GET, 'http://twitter.com/api/1/foobar',\n",
    "                  body='{}', status=200,\n",
    "                  content_type='application/json')\n",
    "\n",
    "    resp = requests.get('http://twitter.com/api/1/foobar')\n",
    "    assert resp.status_code == 500\n",
    "    resp = requests.get('http://twitter.com/api/1/foobar')\n",
    "    assert resp.status_code == 200\n"
   ]
  },
  {
   "cell_type": "markdown",
   "metadata": {},
   "source": [
    "## Using a callback to modify the response\n",
    "\n",
    "If you use customized processing in `requests` via subclassing/mixins, or if you\n",
    "have library tools that interact with `requests` at a low level, you may need\n",
    "to add extended processing to the mocked Response object to fully simulate the\n",
    "environment for your tests.  A `response_callback` can be used, which will be\n",
    "wrapped by the library before being returned to the caller.  The callback\n",
    "accepts a `response` as it's single argument, and is expected to return a\n",
    "single `response` object."
   ]
  },
  {
   "cell_type": "code",
   "execution_count": 16,
   "metadata": {},
   "outputs": [],
   "source": [
    "def response_callback(resp):\n",
    "    resp.callback_processed = True\n",
    "    return resp\n",
    "\n",
    "with responses.RequestsMock(response_callback=response_callback) as m:\n",
    "    m.add(responses.GET, 'http://example.com', body=b'test')\n",
    "    resp = requests.get('http://example.com')\n",
    "    assert resp.text == \"test\"\n",
    "    assert hasattr(resp, 'callback_processed')\n",
    "    assert resp.callback_processed is True\n"
   ]
  },
  {
   "cell_type": "markdown",
   "metadata": {},
   "source": [
    "## Passing thru real requests\n",
    "\n",
    "In some cases you may wish to allow for certain requests to pass thru responses\n",
    "and hit a real server. This can be done with the 'passthru' methods:"
   ]
  },
  {
   "cell_type": "code",
   "execution_count": 17,
   "metadata": {},
   "outputs": [],
   "source": [
    "import responses\n",
    "\n",
    "@responses.activate\n",
    "def test_my_api():\n",
    "    responses.add_passthru('https://percy.io')"
   ]
  },
  {
   "cell_type": "markdown",
   "metadata": {},
   "source": [
    "This will allow any requests matching that prefix, that is otherwise not registered\n",
    "as a mock response, to passthru using the standard behavior."
   ]
  },
  {
   "cell_type": "markdown",
   "metadata": {},
   "source": [
    "## Contributing\n",
    "\n",
    "Responses uses several linting and autoformatting utilities, so it's important that when\n",
    "submitting patches you use the appropriate toolchain:\n",
    "\n",
    "Clone the repository:"
   ]
  },
  {
   "cell_type": "code",
   "execution_count": null,
   "metadata": {},
   "outputs": [],
   "source": [
    "!git clone https://github.com/getsentry/responses.git"
   ]
  },
  {
   "cell_type": "markdown",
   "metadata": {},
   "source": [
    "Create an environment (e.g. with `virtualenv`):"
   ]
  },
  {
   "cell_type": "code",
   "execution_count": null,
   "metadata": {},
   "outputs": [],
   "source": [
    "!virtualenv .env && source .env/bin/activate"
   ]
  },
  {
   "cell_type": "markdown",
   "metadata": {},
   "source": [
    "Configure development requirements:\n",
    "\n",
    "`make develop`"
   ]
  }
 ],
 "metadata": {
  "kernelspec": {
   "display_name": "Python 3",
   "language": "python",
   "name": "python3"
  },
  "language_info": {
   "codemirror_mode": {
    "name": "ipython",
    "version": 3
   },
   "file_extension": ".py",
   "mimetype": "text/x-python",
   "name": "python",
   "nbconvert_exporter": "python",
   "pygments_lexer": "ipython3",
   "version": "3.6.5"
  }
 },
 "nbformat": 4,
 "nbformat_minor": 2
}
